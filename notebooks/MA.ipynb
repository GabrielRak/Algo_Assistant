{
 "cells": [
  {
   "cell_type": "markdown",
   "metadata": {},
   "source": [
    "\n",
    "# Moving Average \n",
    "\n",
    "TA indicator that smooths out price action by averaging closing prices over specified time period. \n",
    "\n",
    "\n",
    "# A_A approach\n",
    "\n",
    "*We will get there in future commits* "
   ]
  },
  {
   "cell_type": "markdown",
   "metadata": {},
   "source": []
  }
 ],
 "metadata": {
  "language_info": {
   "name": "python"
  }
 },
 "nbformat": 4,
 "nbformat_minor": 2
}
