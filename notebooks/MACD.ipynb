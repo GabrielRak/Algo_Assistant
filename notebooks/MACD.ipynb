{
 "cells": [
  {
   "cell_type": "markdown",
   "metadata": {},
   "source": [
    "# Moving Average Convergence Divergence\n",
    "\n",
    "Trend following momentum indicator that shows relationships between two moving averages of security price\n",
    "\n",
    "\n",
    "### Key components\n",
    "\n",
    "**MACD** = 26 period ema - 12 period ema\n",
    "**Signal line** = exponential moving avergae of the MACD line\n",
    "\n",
    "**MACD Histogram**= MACD Line - Signal Line\n",
    "\n",
    "\n",
    "### Interpretation\n",
    "\n",
    "* **Bulish** if MACD line crosses above signal line indicating upward momentum\n",
    "* **Bearish** if MACD line croses below signal line indicating downward momentum\n",
    "\n",
    "\n",
    "EMA - (Exponetial Moving Average) is used as it gives more with to recent MACD values, making the signal line more responsive to changes in the MACD line.\n",
    "\n"
   ]
  },
  {
   "cell_type": "markdown",
   "metadata": {},
   "source": []
  }
 ],
 "metadata": {
  "language_info": {
   "name": "python"
  }
 },
 "nbformat": 4,
 "nbformat_minor": 2
}
