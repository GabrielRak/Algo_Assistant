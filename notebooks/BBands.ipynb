{
 "cells": [
  {
   "cell_type": "markdown",
   "metadata": {},
   "source": [
    "# Bollinger bands\n",
    "TA indicator that consists of a set of trend lines plotted two standard deviations (positively and negatively) away from a \n",
    "\n",
    "**SMA** of security’s price. That’s the indicator that’s used to measure market volatility and identify overbought and oversold conditions. \n",
    "\n",
    "### Key components\n",
    "\n",
    "- **Upper band** - calculated by adding multiple standard deviation to middle band\n",
    "- **Middle band -** SMA of security’s price from given period of time\n",
    "- **Lower band -** calculated by subtracting multiple standard deviation to middle band\n",
    "\n",
    "### Interpretation:\n",
    "\n",
    "- Security’s considered overbought when SMA moves closer to upper band\n",
    "- Security’s considered oversold when SMA moves closer to the lower band\n",
    "\n",
    "### A_A approach\n",
    "\n",
    "We will get there in future comments"
   ]
  },
  {
   "cell_type": "markdown",
   "metadata": {},
   "source": []
  }
 ],
 "metadata": {
  "language_info": {
   "name": "python"
  }
 },
 "nbformat": 4,
 "nbformat_minor": 2
}
